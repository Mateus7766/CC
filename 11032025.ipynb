{
  "nbformat": 4,
  "nbformat_minor": 0,
  "metadata": {
    "colab": {
      "provenance": [],
      "authorship_tag": "ABX9TyNswA6DpLFFtmi/pByBV46a"
    },
    "kernelspec": {
      "name": "python3",
      "display_name": "Python 3"
    },
    "language_info": {
      "name": "python"
    }
  },
  "cells": [
    {
      "cell_type": "code",
      "execution_count": null,
      "metadata": {
        "colab": {
          "base_uri": "https://localhost:8080/"
        },
        "id": "Sc3FprnbJzJV",
        "outputId": "41c1d83e-f3ae-43df-db7f-585e9a35175d"
      },
      "outputs": [
        {
          "output_type": "stream",
          "name": "stdout",
          "text": [
            "83\n",
            "1.65\n",
            "30.49\n"
          ]
        }
      ],
      "source": [
        "peso = float(input())\n",
        "altura = float(input())\n",
        "\n",
        "print(f\"{(peso / altura**2):.2f}\")"
      ]
    },
    {
      "cell_type": "code",
      "source": [
        "a = float(input())\n",
        "b = float(input())\n",
        "\n",
        "print(a + b)\n",
        "print(a - b)\n",
        "print(a * b)\n",
        "print(a / b)\n",
        "print(a % b)\n",
        "\n"
      ],
      "metadata": {
        "colab": {
          "base_uri": "https://localhost:8080/"
        },
        "id": "xx64TPUcKAnE",
        "outputId": "2e76a5bb-03e9-49da-86ae-4dcd41c194a5"
      },
      "execution_count": null,
      "outputs": [
        {
          "output_type": "stream",
          "name": "stdout",
          "text": [
            "50\n",
            "10\n",
            "60.0\n",
            "40.0\n",
            "500.0\n",
            "5.0\n",
            "0.0\n"
          ]
        }
      ]
    },
    {
      "cell_type": "code",
      "source": [
        "nome = input()\n",
        "rua = input()\n",
        "n_rua = int(input())\n",
        "bairro = input()\n",
        "cidade = input()\n",
        "cep = int(input())\n",
        "\n",
        "print(f\"{nome}, residente à rua {rua}, {n_rua}, {bairro}, {cidade}, CEP {cep}\")"
      ],
      "metadata": {
        "colab": {
          "base_uri": "https://localhost:8080/"
        },
        "id": "WoakcT0TKGrU",
        "outputId": "9e93ce25-7b5f-4c4c-8af7-a58db7f48bb1"
      },
      "execution_count": null,
      "outputs": [
        {
          "output_type": "stream",
          "name": "stdout",
          "text": [
            "Mateus\n",
            "da Trindade\n",
            "31\n",
            "Cristo\n",
            "João Pessoa\n",
            "58070270\n",
            "Mateus, residente à rua da Trindade, 31, Cristo, João Pessoa, CEP 58070270\n"
          ]
        }
      ]
    },
    {
      "cell_type": "code",
      "source": [
        "temp = float(input())\n",
        "\n",
        "print(f\"{(temp * 9/5 + 32):.2f}\")"
      ],
      "metadata": {
        "id": "oYMDCaNLLqPE"
      },
      "execution_count": null,
      "outputs": []
    },
    {
      "cell_type": "code",
      "source": [
        "idade= int(input())\n",
        "\n",
        "if(idade >= 18):\n",
        "  print(\"Maior de idade\")\n",
        "else:\n",
        "  print(\"Menor de idade\")"
      ],
      "metadata": {
        "colab": {
          "base_uri": "https://localhost:8080/"
        },
        "id": "hocnqjTaTXqQ",
        "outputId": "81a263dd-2b9a-4399-a696-c000d2bb8980"
      },
      "execution_count": null,
      "outputs": [
        {
          "output_type": "stream",
          "name": "stdout",
          "text": [
            "18\n",
            "Maior de idade\n"
          ]
        }
      ]
    },
    {
      "cell_type": "code",
      "source": [
        "idade = int(input())\n",
        "if(idade < 18):\n",
        "  print(\"Menor de idade\")\n",
        "elif(idade >= 18 and idade < 35):\n",
        "  print(\"Adulto\")\n",
        "elif (idade >= 35 and idade < 60):\n",
        "  print(\"Meia idade\")\n",
        "else:\n",
        "  print(\"Idoso\")"
      ],
      "metadata": {
        "colab": {
          "base_uri": "https://localhost:8080/"
        },
        "id": "UjtD__MyTb6p",
        "outputId": "d6bd7080-ecae-4c72-ef3e-b5cadf56d04f"
      },
      "execution_count": null,
      "outputs": [
        {
          "output_type": "stream",
          "name": "stdout",
          "text": [
            "37\n",
            "Meia idade\n"
          ]
        }
      ]
    },
    {
      "cell_type": "code",
      "source": [
        "valor = float(input())\n",
        "\n",
        "if(valor <= 100):\n",
        "  print(valor)\n",
        "elif(valor >= 101 and valor <= 500):\n",
        "  print(valor * 0.9)\n",
        "elif(valor >= 501 and valor <= 1000):\n",
        "  print(valor * 0.8)\n",
        "else:\n",
        "  print(valor * 0.7)"
      ],
      "metadata": {
        "id": "wdyakfa6X5Dy"
      },
      "execution_count": null,
      "outputs": []
    },
    {
      "cell_type": "code",
      "source": [
        "idade = int(input())\n",
        "tem_cnh =  input()\n",
        "\n",
        "if(idade >= 18 and tem_cnh == \"sim\"):\n",
        "  print(\"Pode dirigir\")\n",
        "else:\n",
        "  print(\"Não pode dirigir\")"
      ],
      "metadata": {
        "id": "PGhX9b_oeEV9"
      },
      "execution_count": null,
      "outputs": []
    }
  ]
}